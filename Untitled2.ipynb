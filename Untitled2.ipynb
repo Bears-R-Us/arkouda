{
 "cells": [
  {
   "cell_type": "code",
   "execution_count": 1,
   "id": "331a1079-fbc8-48b4-a0ef-08ded87acd38",
   "metadata": {},
   "outputs": [
    {
     "name": "stdout",
     "output_type": "stream",
     "text": [
      "    _         _                   _       \n",
      "   / \\   _ __| | _____  _   _  __| | __ _ \n",
      "  / _ \\ | '__| |/ / _ \\| | | |/ _` |/ _` |\n",
      " / ___ \\| |  |   < (_) | |_| | (_| | (_| |\n",
      "/_/   \\_\\_|  |_|\\_\\___/ \\__,_|\\__,_|\\__,_|\n",
      "                                          \n",
      "\n",
      "Client Version: v2024.10.02+42.g38d439b86.dirty\n"
     ]
    },
    {
     "name": "stderr",
     "output_type": "stream",
     "text": [
      "/home/drandy/projects/arkouda/arkouda/client.py:735: RuntimeWarning: Version mismatch between client (v2024.10.02+42.g38d439b86.dirty) and server (v2024.10.02+41.g29f70ea79.dirty); this may cause some commands to fail or behave incorrectly! Updating arkouda is strongly recommended.\n",
      "  warnings.warn(\n",
      "connected to arkouda server tcp://*:5555\n"
     ]
    }
   ],
   "source": [
    "import numpy as np ; import arkouda as ak ; ak.connect()"
   ]
  },
  {
   "cell_type": "code",
   "execution_count": 2,
   "id": "d181941d-235b-4040-8f79-24972f854f34",
   "metadata": {},
   "outputs": [],
   "source": [
    "nm = np.array([0,1,2,3,4,5]) ; dm = np.array([1,2,3,4,5,6])"
   ]
  },
  {
   "cell_type": "code",
   "execution_count": 3,
   "id": "245fb829-658c-4bd3-a0c8-d32ae654b486",
   "metadata": {},
   "outputs": [],
   "source": [
    "an = ak.array(nm) ; ad = ak.array(dm)"
   ]
  },
  {
   "cell_type": "code",
   "execution_count": 4,
   "id": "bbba5344-2f97-4d5e-9652-528ecb0e2f0b",
   "metadata": {},
   "outputs": [],
   "source": [
    "tnp = np.array([False,True,False,True,False,True]) ; tak = ak.array(tnp)"
   ]
  },
  {
   "cell_type": "code",
   "execution_count": 5,
   "id": "3a8ce40b-8d47-4bc4-a9e4-15aaad6abd50",
   "metadata": {},
   "outputs": [
    {
     "data": {
      "text/plain": [
       "array([0.        , 0.46364761, 0.5880026 , 0.64350111, 0.67474094,\n",
       "       0.69473828])"
      ]
     },
     "execution_count": 5,
     "metadata": {},
     "output_type": "execute_result"
    }
   ],
   "source": [
    "np.arctan2(nm,dm)"
   ]
  },
  {
   "cell_type": "code",
   "execution_count": 6,
   "id": "a2def6e9-5b20-4abf-a75c-c6cb7dd2aef7",
   "metadata": {},
   "outputs": [
    {
     "data": {
      "text/plain": [
       "array([0.00000000000000000 0.46364760900080609 0.5880026035475675 0.64350110879328437 0.67474094222355263 0.69473827619670314])"
      ]
     },
     "execution_count": 6,
     "metadata": {},
     "output_type": "execute_result"
    }
   ],
   "source": [
    "ak.arctan2(an,ad,where=True)"
   ]
  },
  {
   "cell_type": "code",
   "execution_count": 7,
   "id": "1de0a822-a096-44d6-9dc1-1ecdf4fcca1b",
   "metadata": {},
   "outputs": [
    {
     "ename": "RuntimeError",
     "evalue": "Error: setPdarrayIndexToPdarrayMsg: size mismatch 6 3",
     "output_type": "error",
     "traceback": [
      "\u001b[0;31m---------------------------------------------------------------------------\u001b[0m",
      "\u001b[0;31mRuntimeError\u001b[0m                              Traceback (most recent call last)",
      "Cell \u001b[0;32mIn[7], line 1\u001b[0m\n\u001b[0;32m----> 1\u001b[0m \u001b[43mak\u001b[49m\u001b[38;5;241;43m.\u001b[39;49m\u001b[43marctan2\u001b[49m\u001b[43m(\u001b[49m\u001b[43man\u001b[49m\u001b[43m,\u001b[49m\u001b[43mad\u001b[49m\u001b[43m,\u001b[49m\u001b[43mwhere\u001b[49m\u001b[38;5;241;43m=\u001b[39;49m\u001b[43mtak\u001b[49m\u001b[43m)\u001b[49m\n",
      "File \u001b[0;32m~/miniconda3/envs/arkouda-dev/lib/python3.12/site-packages/typeguard/__init__.py:891\u001b[0m, in \u001b[0;36mtypechecked.<locals>.wrapper\u001b[0;34m(*args, **kwargs)\u001b[0m\n\u001b[1;32m    889\u001b[0m memo \u001b[38;5;241m=\u001b[39m _CallMemo(python_func, _localns, args\u001b[38;5;241m=\u001b[39margs, kwargs\u001b[38;5;241m=\u001b[39mkwargs)\n\u001b[1;32m    890\u001b[0m check_argument_types(memo)\n\u001b[0;32m--> 891\u001b[0m retval \u001b[38;5;241m=\u001b[39m \u001b[43mfunc\u001b[49m\u001b[43m(\u001b[49m\u001b[38;5;241;43m*\u001b[39;49m\u001b[43margs\u001b[49m\u001b[43m,\u001b[49m\u001b[43m \u001b[49m\u001b[38;5;241;43m*\u001b[39;49m\u001b[38;5;241;43m*\u001b[39;49m\u001b[43mkwargs\u001b[49m\u001b[43m)\u001b[49m\n\u001b[1;32m    892\u001b[0m check_return_type(retval, memo)\n\u001b[1;32m    894\u001b[0m \u001b[38;5;66;03m# If a generator is returned, wrap it if its yield/send/return types can be checked\u001b[39;00m\n",
      "File \u001b[0;32m~/projects/arkouda/arkouda/numpy/_numeric.py:1116\u001b[0m, in \u001b[0;36marctan2\u001b[0;34m(num, denom, where)\u001b[0m\n\u001b[1;32m   1114\u001b[0m     \u001b[38;5;28;01melse\u001b[39;00m :\n\u001b[1;32m   1115\u001b[0m         new_pda \u001b[38;5;241m=\u001b[39m num \u001b[38;5;241m/\u001b[39m denom \u001b[38;5;66;03m# type : ignore\u001b[39;00m\n\u001b[0;32m-> 1116\u001b[0m         \u001b[38;5;28;01mreturn\u001b[39;00m \u001b[43m_merge_where\u001b[49m\u001b[43m(\u001b[49m\u001b[43mret\u001b[49m\u001b[43m[\u001b[49m\u001b[43m:\u001b[49m\u001b[43m]\u001b[49m\u001b[43m,\u001b[49m\u001b[43m \u001b[49m\u001b[43mwhere\u001b[49m\u001b[43m,\u001b[49m\u001b[43m \u001b[49m\u001b[43mnew_pda\u001b[49m\u001b[43m)\u001b[49m\n\u001b[1;32m   1118\u001b[0m \u001b[38;5;28;01melse\u001b[39;00m:\n\u001b[1;32m   1119\u001b[0m     \u001b[38;5;28;01mreturn\u001b[39;00m scalar_array(arctan2(num, denom) \u001b[38;5;28;01mif\u001b[39;00m where \u001b[38;5;28;01melse\u001b[39;00m num \u001b[38;5;241m/\u001b[39m denom)\n",
      "File \u001b[0;32m~/projects/arkouda/arkouda/numpy/_numeric.py:113\u001b[0m, in \u001b[0;36m_merge_where\u001b[0;34m(new_pda, where, ret)\u001b[0m\n\u001b[1;32m    111\u001b[0m \u001b[38;5;28;01mdef\u001b[39;00m \u001b[38;5;21m_merge_where\u001b[39m(new_pda, where, ret):\n\u001b[1;32m    112\u001b[0m     new_pda \u001b[38;5;241m=\u001b[39m cast(new_pda, ret\u001b[38;5;241m.\u001b[39mdtype)\n\u001b[0;32m--> 113\u001b[0m     \u001b[43mnew_pda\u001b[49m\u001b[43m[\u001b[49m\u001b[43mwhere\u001b[49m\u001b[43m]\u001b[49m \u001b[38;5;241m=\u001b[39m ret\n\u001b[1;32m    114\u001b[0m     \u001b[38;5;28;01mreturn\u001b[39;00m new_pda\n",
      "File \u001b[0;32m~/projects/arkouda/arkouda/pdarrayclass.py:1027\u001b[0m, in \u001b[0;36mpdarray.__setitem__\u001b[0;34m(self, key, value)\u001b[0m\n\u001b[1;32m   1025\u001b[0m \u001b[38;5;28;01melif\u001b[39;00m \u001b[38;5;28misinstance\u001b[39m(key, pdarray):\n\u001b[1;32m   1026\u001b[0m     \u001b[38;5;28;01mif\u001b[39;00m \u001b[38;5;28misinstance\u001b[39m(_value, pdarray):\n\u001b[0;32m-> 1027\u001b[0m         \u001b[43mgeneric_msg\u001b[49m\u001b[43m(\u001b[49m\n\u001b[1;32m   1028\u001b[0m \u001b[43m            \u001b[49m\u001b[43mcmd\u001b[49m\u001b[38;5;241;43m=\u001b[39;49m\u001b[38;5;124;43m\"\u001b[39;49m\u001b[38;5;124;43m[pdarray]=pdarray\u001b[39;49m\u001b[38;5;124;43m\"\u001b[39;49m\u001b[43m,\u001b[49m\u001b[43m \u001b[49m\u001b[43margs\u001b[49m\u001b[38;5;241;43m=\u001b[39;49m\u001b[43m{\u001b[49m\u001b[38;5;124;43m\"\u001b[39;49m\u001b[38;5;124;43marray\u001b[39;49m\u001b[38;5;124;43m\"\u001b[39;49m\u001b[43m:\u001b[49m\u001b[43m \u001b[49m\u001b[38;5;28;43mself\u001b[39;49m\u001b[43m,\u001b[49m\u001b[43m \u001b[49m\u001b[38;5;124;43m\"\u001b[39;49m\u001b[38;5;124;43midx\u001b[39;49m\u001b[38;5;124;43m\"\u001b[39;49m\u001b[43m:\u001b[49m\u001b[43m \u001b[49m\u001b[43mkey\u001b[49m\u001b[43m,\u001b[49m\u001b[43m \u001b[49m\u001b[38;5;124;43m\"\u001b[39;49m\u001b[38;5;124;43mvalue\u001b[39;49m\u001b[38;5;124;43m\"\u001b[39;49m\u001b[43m:\u001b[49m\u001b[43m \u001b[49m\u001b[43m_value\u001b[49m\u001b[43m}\u001b[49m\n\u001b[1;32m   1029\u001b[0m \u001b[43m        \u001b[49m\u001b[43m)\u001b[49m\n\u001b[1;32m   1030\u001b[0m     \u001b[38;5;28;01melse\u001b[39;00m:\n\u001b[1;32m   1031\u001b[0m         generic_msg(\n\u001b[1;32m   1032\u001b[0m             cmd\u001b[38;5;241m=\u001b[39m\u001b[38;5;124m\"\u001b[39m\u001b[38;5;124m[pdarray]=val\u001b[39m\u001b[38;5;124m\"\u001b[39m,\n\u001b[1;32m   1033\u001b[0m             args\u001b[38;5;241m=\u001b[39m{\n\u001b[0;32m   (...)\u001b[0m\n\u001b[1;32m   1038\u001b[0m             },\n\u001b[1;32m   1039\u001b[0m         )\n",
      "File \u001b[0;32m~/projects/arkouda/arkouda/client.py:1010\u001b[0m, in \u001b[0;36mgeneric_msg\u001b[0;34m(cmd, args, payload, send_binary, recv_binary)\u001b[0m\n\u001b[1;32m   1008\u001b[0m     \u001b[38;5;28;01melse\u001b[39;00m:\n\u001b[1;32m   1009\u001b[0m         \u001b[38;5;28;01massert\u001b[39;00m payload \u001b[38;5;129;01mis\u001b[39;00m \u001b[38;5;28;01mNone\u001b[39;00m\n\u001b[0;32m-> 1010\u001b[0m         \u001b[38;5;28;01mreturn\u001b[39;00m \u001b[43mcast\u001b[49m\u001b[43m(\u001b[49m\u001b[43mChannel\u001b[49m\u001b[43m,\u001b[49m\u001b[43m \u001b[49m\u001b[43mchannel\u001b[49m\u001b[43m)\u001b[49m\u001b[38;5;241;43m.\u001b[39;49m\u001b[43msend_string_message\u001b[49m\u001b[43m(\u001b[49m\n\u001b[1;32m   1011\u001b[0m \u001b[43m            \u001b[49m\u001b[43mcmd\u001b[49m\u001b[38;5;241;43m=\u001b[39;49m\u001b[43mcmd\u001b[49m\u001b[43m,\u001b[49m\u001b[43m \u001b[49m\u001b[43margs\u001b[49m\u001b[38;5;241;43m=\u001b[39;49m\u001b[43mmsg_args\u001b[49m\u001b[43m,\u001b[49m\u001b[43m \u001b[49m\u001b[43msize\u001b[49m\u001b[38;5;241;43m=\u001b[39;49m\u001b[43msize\u001b[49m\u001b[43m,\u001b[49m\u001b[43m \u001b[49m\u001b[43mrecv_binary\u001b[49m\u001b[38;5;241;43m=\u001b[39;49m\u001b[43mrecv_binary\u001b[49m\n\u001b[1;32m   1012\u001b[0m \u001b[43m        \u001b[49m\u001b[43m)\u001b[49m\n\u001b[1;32m   1013\u001b[0m \u001b[38;5;28;01mexcept\u001b[39;00m \u001b[38;5;167;01mKeyboardInterrupt\u001b[39;00m \u001b[38;5;28;01mas\u001b[39;00m e:\n\u001b[1;32m   1014\u001b[0m     \u001b[38;5;66;03m# if the user interrupts during command execution, the socket gets out\u001b[39;00m\n\u001b[1;32m   1015\u001b[0m     \u001b[38;5;66;03m# of sync reset the socket before raising the interrupt exception\u001b[39;00m\n\u001b[1;32m   1016\u001b[0m     cast(Channel, channel)\u001b[38;5;241m.\u001b[39mconnect(timeout\u001b[38;5;241m=\u001b[39m\u001b[38;5;241m0\u001b[39m)\n",
      "File \u001b[0;32m~/projects/arkouda/arkouda/client.py:533\u001b[0m, in \u001b[0;36mZmqChannel.send_string_message\u001b[0;34m(self, cmd, recv_binary, args, size, request_id)\u001b[0m\n\u001b[1;32m    531\u001b[0m \u001b[38;5;66;03m# raise errors or warnings sent back from the server\u001b[39;00m\n\u001b[1;32m    532\u001b[0m \u001b[38;5;28;01mif\u001b[39;00m return_message\u001b[38;5;241m.\u001b[39mmsgType \u001b[38;5;241m==\u001b[39m MessageType\u001b[38;5;241m.\u001b[39mERROR:\n\u001b[0;32m--> 533\u001b[0m     \u001b[38;5;28;01mraise\u001b[39;00m \u001b[38;5;167;01mRuntimeError\u001b[39;00m(return_message\u001b[38;5;241m.\u001b[39mmsg)\n\u001b[1;32m    534\u001b[0m \u001b[38;5;28;01melif\u001b[39;00m return_message\u001b[38;5;241m.\u001b[39mmsgType \u001b[38;5;241m==\u001b[39m MessageType\u001b[38;5;241m.\u001b[39mWARNING:\n\u001b[1;32m    535\u001b[0m     warnings\u001b[38;5;241m.\u001b[39mwarn(return_message\u001b[38;5;241m.\u001b[39mmsg)\n",
      "\u001b[0;31mRuntimeError\u001b[0m: Error: setPdarrayIndexToPdarrayMsg: size mismatch 6 3"
     ]
    }
   ],
   "source": [
    "ak.arctan2(an,ad,where=tak)"
   ]
  },
  {
   "cell_type": "code",
   "execution_count": 8,
   "id": "71911f58-10c3-49e8-b7af-a85d4dc82a86",
   "metadata": {},
   "outputs": [
    {
     "data": {
      "text/plain": [
       "array([False True False True False True])"
      ]
     },
     "execution_count": 8,
     "metadata": {},
     "output_type": "execute_result"
    }
   ],
   "source": [
    "tak"
   ]
  },
  {
   "cell_type": "code",
   "execution_count": 9,
   "id": "2c039407-de2e-4c98-8ee2-49dd1256cab5",
   "metadata": {},
   "outputs": [
    {
     "data": {
      "text/plain": [
       "array([0.00000000000000000 0.5 0.66666666666666663 0.75 0.80000000000000004 0.83333333333333337])"
      ]
     },
     "execution_count": 9,
     "metadata": {},
     "output_type": "execute_result"
    }
   ],
   "source": [
    "an/ad"
   ]
  },
  {
   "cell_type": "code",
   "execution_count": null,
   "id": "0ba3af0b-051d-402b-aa58-7957d7d6db0e",
   "metadata": {},
   "outputs": [],
   "source": []
  }
 ],
 "metadata": {
  "kernelspec": {
   "display_name": "Python 3 (ipykernel)",
   "language": "python",
   "name": "python3"
  },
  "language_info": {
   "codemirror_mode": {
    "name": "ipython",
    "version": 3
   },
   "file_extension": ".py",
   "mimetype": "text/x-python",
   "name": "python",
   "nbconvert_exporter": "python",
   "pygments_lexer": "ipython3",
   "version": "3.12.3"
  }
 },
 "nbformat": 4,
 "nbformat_minor": 5
}
