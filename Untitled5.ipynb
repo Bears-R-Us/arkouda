{
 "cells": [
  {
   "cell_type": "code",
   "execution_count": 1,
   "id": "56e7eb40-35ba-469d-9a08-5f3108ed4577",
   "metadata": {},
   "outputs": [
    {
     "name": "stdout",
     "output_type": "stream",
     "text": [
      "    _         _                   _       \n",
      "   / \\   _ __| | _____  _   _  __| | __ _ \n",
      "  / _ \\ | '__| |/ / _ \\| | | |/ _` |/ _` |\n",
      " / ___ \\| |  |   < (_) | |_| | (_| | (_| |\n",
      "/_/   \\_\\_|  |_|\\_\\___/ \\__,_|\\__,_|\\__,_|\n",
      "                                          \n",
      "\n",
      "Client Version: v2024.10.02+43.g640d7a6cf.dirty\n"
     ]
    },
    {
     "name": "stderr",
     "output_type": "stream",
     "text": [
      "connected to arkouda server tcp://*:5555\n"
     ]
    }
   ],
   "source": [
    "import arkouda as ak ; import numpy as np ; ak.connect()"
   ]
  },
  {
   "cell_type": "code",
   "execution_count": 2,
   "id": "7c5fd770-81d3-4e7f-bed6-3b5e861a5600",
   "metadata": {},
   "outputs": [],
   "source": [
    "a = ak.array(np.random.randint(0,10,100)) ; b = ak.array(np.random.randint(0,10,100))"
   ]
  },
  {
   "cell_type": "code",
   "execution_count": 3,
   "id": "f0d40dd8-3579-4386-a9dd-6db102fd1dc4",
   "metadata": {},
   "outputs": [
    {
     "data": {
      "text/plain": [
       "array([9 3 4 3 0 3 4 7 5 1 5 0 4 5 4 9 7 0 6 9 5 9 9 4 1 0 5 5 4 3 6 2 5 9 7 0 1 6 9 6 6 1 6 9 7 6 7 2 6 2 4 1 8 7 6 0 4 3 8 7 3 6 2 2 3 2 7 5 6 7 8 3 5 7 9 9 8 9 0 0 4 1 5 2 9 6 4 5 1 4 1 2 2 2 9 5 8 7 3 3])"
      ]
     },
     "execution_count": 3,
     "metadata": {},
     "output_type": "execute_result"
    }
   ],
   "source": [
    "a"
   ]
  },
  {
   "cell_type": "code",
   "execution_count": 4,
   "id": "2f9f1fcd-f401-418c-8e6e-2c99cda2ea49",
   "metadata": {},
   "outputs": [
    {
     "data": {
      "text/plain": [
       "array([9 7 4 4 4 3 5 9 3 3 5 6 5 5 2 9 2 5 2 4 1 3 5 8 1 3 1 1 0 5 2 8 1 5 8 2 1 9 1 9 0 6 9 6 5 9 4 4 7 6 0 9 4 0 7 3 7 3 7 2 9 6 7 0 8 3 9 5 3 4 7 1 6 2 8 7 6 4 4 2 3 3 5 9 2 1 1 8 0 0 9 5 6 9 0 7 2 3 7 4])"
      ]
     },
     "execution_count": 4,
     "metadata": {},
     "output_type": "execute_result"
    }
   ],
   "source": [
    "b"
   ]
  },
  {
   "cell_type": "code",
   "execution_count": 6,
   "id": "7d95a0dd-07e4-4ed0-94b8-1743d44f66ea",
   "metadata": {},
   "outputs": [],
   "source": [
    "c = ak.array(np.random.randint(0,2,100,dtype='bool'))"
   ]
  },
  {
   "cell_type": "code",
   "execution_count": 8,
   "id": "2a2323f9-3923-4672-87c0-7cfcdd81aac4",
   "metadata": {},
   "outputs": [
    {
     "data": {
      "text/plain": [
       "array([False False True False False False False True True False True False True True False True True False True True True False True True False False True False False True True True False False False True False True True False True False False True True True True False False False False True False False False True False False True True True False False False False False True True False False True False False False True True False True True True False False True False True True True True False False False True False True True True False False False True])"
      ]
     },
     "execution_count": 8,
     "metadata": {},
     "output_type": "execute_result"
    }
   ],
   "source": [
    "c"
   ]
  },
  {
   "cell_type": "code",
   "execution_count": 9,
   "id": "8d3da67e-cd4e-4df7-9db3-fe21e621a902",
   "metadata": {},
   "outputs": [
    {
     "data": {
      "text/plain": [
       "dtype('bool')"
      ]
     },
     "execution_count": 9,
     "metadata": {},
     "output_type": "execute_result"
    }
   ],
   "source": [
    "c.dtype"
   ]
  },
  {
   "cell_type": "code",
   "execution_count": 10,
   "id": "269ed164-4038-4274-9eaf-5204fae0d217",
   "metadata": {},
   "outputs": [
    {
     "ename": "NameError",
     "evalue": "name 'repMsg' is not defined",
     "output_type": "error",
     "traceback": [
      "\u001b[0;31m---------------------------------------------------------------------------\u001b[0m",
      "\u001b[0;31mNameError\u001b[0m                                 Traceback (most recent call last)",
      "Cell \u001b[0;32mIn[10], line 1\u001b[0m\n\u001b[0;32m----> 1\u001b[0m \u001b[43mak\u001b[49m\u001b[38;5;241;43m.\u001b[39;49m\u001b[43mwhere\u001b[49m\u001b[43m(\u001b[49m\u001b[43mc\u001b[49m\u001b[43m,\u001b[49m\u001b[43ma\u001b[49m\u001b[43m,\u001b[49m\u001b[43mb\u001b[49m\u001b[43m)\u001b[49m\n",
      "File \u001b[0;32m~/miniconda3/envs/arkouda-dev/lib/python3.12/site-packages/typeguard/__init__.py:891\u001b[0m, in \u001b[0;36mtypechecked.<locals>.wrapper\u001b[0;34m(*args, **kwargs)\u001b[0m\n\u001b[1;32m    889\u001b[0m memo \u001b[38;5;241m=\u001b[39m _CallMemo(python_func, _localns, args\u001b[38;5;241m=\u001b[39margs, kwargs\u001b[38;5;241m=\u001b[39mkwargs)\n\u001b[1;32m    890\u001b[0m check_argument_types(memo)\n\u001b[0;32m--> 891\u001b[0m retval \u001b[38;5;241m=\u001b[39m \u001b[43mfunc\u001b[49m\u001b[43m(\u001b[49m\u001b[38;5;241;43m*\u001b[39;49m\u001b[43margs\u001b[49m\u001b[43m,\u001b[49m\u001b[43m \u001b[49m\u001b[38;5;241;43m*\u001b[39;49m\u001b[38;5;241;43m*\u001b[39;49m\u001b[43mkwargs\u001b[49m\u001b[43m)\u001b[49m\n\u001b[1;32m    892\u001b[0m check_return_type(retval, memo)\n\u001b[1;32m    894\u001b[0m \u001b[38;5;66;03m# If a generator is returned, wrap it if its yield/send/return types can be checked\u001b[39;00m\n",
      "File \u001b[0;32m~/projects/arkouda/arkouda/numpy/_numeric.py:1758\u001b[0m, in \u001b[0;36mwhere\u001b[0;34m(condition, A, B)\u001b[0m\n\u001b[1;32m   1754\u001b[0m         \u001b[38;5;28;01mraise\u001b[39;00m \u001b[38;5;167;01mTypeError\u001b[39;00m (\u001b[38;5;124mf\u001b[39m\u001b[38;5;124m\"\u001b[39m\u001b[38;5;124mwhere does not accept scalar type \u001b[39m\u001b[38;5;132;01m{\u001b[39;00mresolve_scalar_dtype(B)\u001b[38;5;132;01m}\u001b[39;00m\u001b[38;5;124m\"\u001b[39m)\n\u001b[1;32m   1755\u001b[0m     cmdstring \u001b[38;5;241m=\u001b[39m \u001b[38;5;124m\"\u001b[39m\u001b[38;5;124mwheress_\u001b[39m\u001b[38;5;124m\"\u001b[39m\u001b[38;5;241m+\u001b[39mta\u001b[38;5;241m+\u001b[39mtb \n\u001b[0;32m-> 1758\u001b[0m \u001b[38;5;28;01mreturn\u001b[39;00m create_pdarray(type_cast(\u001b[38;5;28mstr\u001b[39m, \u001b[43mrepMsg\u001b[49m))\n",
      "\u001b[0;31mNameError\u001b[0m: name 'repMsg' is not defined"
     ]
    }
   ],
   "source": [
    "ak.where(c,a,b)"
   ]
  },
  {
   "cell_type": "code",
   "execution_count": null,
   "id": "2899a1c5-b474-45e8-a62e-8270647e5137",
   "metadata": {},
   "outputs": [],
   "source": []
  }
 ],
 "metadata": {
  "kernelspec": {
   "display_name": "Python 3 (ipykernel)",
   "language": "python",
   "name": "python3"
  },
  "language_info": {
   "codemirror_mode": {
    "name": "ipython",
    "version": 3
   },
   "file_extension": ".py",
   "mimetype": "text/x-python",
   "name": "python",
   "nbconvert_exporter": "python",
   "pygments_lexer": "ipython3",
   "version": "3.12.3"
  }
 },
 "nbformat": 4,
 "nbformat_minor": 5
}
