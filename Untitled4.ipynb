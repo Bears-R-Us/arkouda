{
 "cells": [
  {
   "cell_type": "code",
   "execution_count": 1,
   "id": "c14cd2ac-606d-4660-ba8e-7c1098ae64de",
   "metadata": {},
   "outputs": [],
   "source": [
    "dtypes = set((\"uint64\",\"int64\",\"float64\",\"bool\"))"
   ]
  },
  {
   "cell_type": "code",
   "execution_count": 2,
   "id": "959b7cb9-bbe6-4f91-b820-9804bb1e75b2",
   "metadata": {},
   "outputs": [
    {
     "data": {
      "text/plain": [
       "{'bool', 'float64', 'int64', 'uint64'}"
      ]
     },
     "execution_count": 2,
     "metadata": {},
     "output_type": "execute_result"
    }
   ],
   "source": [
    "dtypes"
   ]
  },
  {
   "cell_type": "code",
   "execution_count": 3,
   "id": "dd281879-18e0-444d-b662-dd19a73db07d",
   "metadata": {},
   "outputs": [
    {
     "name": "stdout",
     "output_type": "stream",
     "text": [
      "    _         _                   _       \n",
      "   / \\   _ __| | _____  _   _  __| | __ _ \n",
      "  / _ \\ | '__| |/ / _ \\| | | |/ _` |/ _` |\n",
      " / ___ \\| |  |   < (_) | |_| | (_| | (_| |\n",
      "/_/   \\_\\_|  |_|\\_\\___/ \\__,_|\\__,_|\\__,_|\n",
      "                                          \n",
      "\n",
      "Client Version: v2024.10.02+43.g640d7a6cf.dirty\n"
     ]
    },
    {
     "name": "stderr",
     "output_type": "stream",
     "text": [
      "connected to arkouda server tcp://*:5555\n"
     ]
    }
   ],
   "source": [
    "import numpy as np ; import arkouda as ak ; ak.connect()"
   ]
  },
  {
   "cell_type": "code",
   "execution_count": 4,
   "id": "39225dc3-3ae1-4372-ac44-e4ccc858fd35",
   "metadata": {},
   "outputs": [],
   "source": [
    "size = 100 ; npCond = np.random.randint(0,2,size,dtype='bool')"
   ]
  },
  {
   "cell_type": "code",
   "execution_count": 5,
   "id": "7fc65a09-8bae-4541-98a5-fc9a48134284",
   "metadata": {},
   "outputs": [],
   "source": [
    "akCond = ak.array(npCond)"
   ]
  },
  {
   "cell_type": "code",
   "execution_count": 6,
   "id": "bbb208bd-049a-44fb-ac7b-779e620a33fe",
   "metadata": {},
   "outputs": [],
   "source": [
    "npA = {\n",
    "            \"uint64\": np.random.randint(0, 10, size),\n",
    "            \"int64\": np.random.randint(0, 10, size),\n",
    "            \"float64\": np.random.randn(size),\n",
    "            \"bool\": np.random.randint(0, 2, size, dtype=\"bool\"),\n",
    "}\n",
    "akA = {k: ak.array(v) for k, v in npA.items()}\n",
    "npB = {\n",
    "            \"uint64\": np.random.randint(0, 10, size),\n",
    "            \"int64\": np.random.randint(10, 20, size),\n",
    "            \"float64\": np.random.randn(size) + 10,\n",
    "            \"bool\": np.random.randint(0, 2, size, dtype=\"bool\"),\n",
    "        }\n",
    "akB = {k: ak.array(v) for k, v in npB.items()}\n"
   ]
  },
  {
   "cell_type": "code",
   "execution_count": 8,
   "id": "19d9f8a0-59cf-4cce-919b-ef26e60b10af",
   "metadata": {},
   "outputs": [
    {
     "name": "stdout",
     "output_type": "stream",
     "text": [
      "None\n",
      "None\n",
      "None\n",
      "None\n"
     ]
    }
   ],
   "source": [
    "for (dtype1,dtype2) in zip(dtypes,dtypes) :\n",
    "    akres = ak.where(akCond,akA[dtype1],akB[dtype2])\n",
    "    print (akres)"
   ]
  },
  {
   "cell_type": "code",
   "execution_count": 9,
   "id": "20fb7edb-107f-46d4-9e69-b8a6eaa22cc6",
   "metadata": {},
   "outputs": [
    {
     "data": {
      "text/plain": [
       "array([False False False False True True True False False True False False True False False True True True False True False True False True True True True True False False False False True False True True False False False True False True True False False True True False True False True True False True True True False False False False False False False True True False True False True False True False False True True True True True False False False False False False True True True True False True True False True True False False False True False False])"
      ]
     },
     "execution_count": 9,
     "metadata": {},
     "output_type": "execute_result"
    }
   ],
   "source": [
    "akCond"
   ]
  },
  {
   "cell_type": "code",
   "execution_count": null,
   "id": "85f0178d-20fb-49d4-a765-268b1ed35321",
   "metadata": {},
   "outputs": [],
   "source": []
  },
  {
   "cell_type": "code",
   "execution_count": 10,
   "id": "a6c5be25-c875-4fc8-b209-2d0ba50f343f",
   "metadata": {},
   "outputs": [
    {
     "data": {
      "text/plain": [
       "{'uint64': array([8 8 2 9 9 9 1 4 6 6 8 7 1 6 2 9 7 6 5 4 8 7 1 0 0 5 1 9 7 7 9 8 2 4 0 0 9 7 4 4 9 0 7 9 6 3 0 8 1 1 9 5 7 9 5 4 6 3 1 7 9 0 3 6 3 9 4 4 8 6 2 3 3 9 9 0 2 7 1 8 5 4 1 7 2 8 9 2 6 9 5 3 7 4 1 0 3 2 4 1]),\n",
       " 'int64': array([6 6 7 3 3 0 5 0 9 1 6 3 7 8 4 2 1 0 2 8 0 1 9 3 0 9 6 5 9 0 6 2 9 3 4 4 8 5 1 1 6 1 5 2 8 8 5 0 4 8 0 9 3 5 2 2 9 6 5 7 1 7 2 8 7 1 9 3 8 2 3 8 9 8 7 1 3 2 8 5 2 0 7 3 0 9 7 7 0 1 0 3 6 6 8 4 5 5 1 8]),\n",
       " 'float64': array([-0.60107626859820362 0.088750061054212723 0.7288157333194395 -0.22934432889469736 1.8364611103753645 -0.5751429295024918 -1.4750212621290149 0.97832101092063417 0.55315960323444013 0.97167476030240174 1.0645661554582064 -0.24341366115207591 1.3411259249189773 1.2086776665459109 1.5017717331001086 0.56849734867778168 -0.43431095316677276 -0.54776816722718813 -0.55513011967407644 -1.7418086870209806 -0.39263277285265202 0.7141709183492525 1.0524161739206419 -0.20925310112224729 -0.89673116262314523 -1.427639235574063 1.4760440074192809 1.4060735808730227 1.4608569810777752 -0.30299958222103057 0.30771349715678259 0.40055608264029507 -0.32098059406489698 0.66595209820877166 0.72925085146429414 0.2651686380266885 0.51737311889550197 -0.79306932923563411 -0.17280237818065808 -0.10376403317467443 -0.91621463474261833 2.4960200110066881 -1.5777394046679687 0.47685572917012103 -0.76844327008002455 0.17427664539518459 -1.0225615104049708 -1.1643175390143197 0.84015477674483896 -1.5039280709599847 -0.1512984296261401 0.54085384969508143 -0.055400690000583744 -0.65032544732938813 -0.71768761198661146 0.2274202524629122 -0.83967164999712618 0.88082762004045256 -0.93549610132510574 -1.7113607327009637 0.62974434921663813 0.34181304084672698 0.76226251918929477 1.2948480114508081 -0.72317153993859884 0.020190741582697465 0.71465686655506555 0.060031391502523158 0.0377360707632097 0.5566784425081116 -0.96992782208844897 -2.7022183377215976 2.1071195435052883 1.0930773963446336 -0.62210013252485474 0.18157183115732964 1.5880679153617867 2.8999728643054645 0.42676039275174282 -0.21830914143448468 0.33226724130270424 -1.1511907774442558 0.061447045174300399 2.7563450911001182 0.27788864693570287 0.48450811808101762 0.79262961494969508 0.40475112250378154 1.0511285888904991 0.97606584738031732 0.59096092516688681 0.14720656640308591 -0.82466997417417665 1.2504561701622927 -0.35395767568139913 2.2946169330335886 1.7604748146386184 -2.0634915595612568 1.4750501096973878 -0.43008440773889445]),\n",
       " 'bool': array([True False False False False True True True True True False True False True False False False True True True True False True False False True False False True False False False True False False False False True True True True True False False True False False True False True True True False True True True True False False True True True True False False False True True True False False False True True True False False True True True True True False True True True True False True True True False True False True False True True True True])}"
      ]
     },
     "execution_count": 10,
     "metadata": {},
     "output_type": "execute_result"
    }
   ],
   "source": [
    "akA"
   ]
  },
  {
   "cell_type": "code",
   "execution_count": 14,
   "id": "8946c129-fffd-4c1b-b34d-56d1ac311e1a",
   "metadata": {},
   "outputs": [],
   "source": [
    "ak.where(akCond,akA['float64'],akB['float64'])"
   ]
  },
  {
   "cell_type": "code",
   "execution_count": 15,
   "id": "48d41cb4-c70a-4cbb-ac6e-c3c74ce8624d",
   "metadata": {},
   "outputs": [
    {
     "data": {
      "text/plain": [
       "array([-0.60107626859820362 0.088750061054212723 0.7288157333194395 -0.22934432889469736 1.8364611103753645 -0.5751429295024918 -1.4750212621290149 0.97832101092063417 0.55315960323444013 0.97167476030240174 1.0645661554582064 -0.24341366115207591 1.3411259249189773 1.2086776665459109 1.5017717331001086 0.56849734867778168 -0.43431095316677276 -0.54776816722718813 -0.55513011967407644 -1.7418086870209806 -0.39263277285265202 0.7141709183492525 1.0524161739206419 -0.20925310112224729 -0.89673116262314523 -1.427639235574063 1.4760440074192809 1.4060735808730227 1.4608569810777752 -0.30299958222103057 0.30771349715678259 0.40055608264029507 -0.32098059406489698 0.66595209820877166 0.72925085146429414 0.2651686380266885 0.51737311889550197 -0.79306932923563411 -0.17280237818065808 -0.10376403317467443 -0.91621463474261833 2.4960200110066881 -1.5777394046679687 0.47685572917012103 -0.76844327008002455 0.17427664539518459 -1.0225615104049708 -1.1643175390143197 0.84015477674483896 -1.5039280709599847 -0.1512984296261401 0.54085384969508143 -0.055400690000583744 -0.65032544732938813 -0.71768761198661146 0.2274202524629122 -0.83967164999712618 0.88082762004045256 -0.93549610132510574 -1.7113607327009637 0.62974434921663813 0.34181304084672698 0.76226251918929477 1.2948480114508081 -0.72317153993859884 0.020190741582697465 0.71465686655506555 0.060031391502523158 0.0377360707632097 0.5566784425081116 -0.96992782208844897 -2.7022183377215976 2.1071195435052883 1.0930773963446336 -0.62210013252485474 0.18157183115732964 1.5880679153617867 2.8999728643054645 0.42676039275174282 -0.21830914143448468 0.33226724130270424 -1.1511907774442558 0.061447045174300399 2.7563450911001182 0.27788864693570287 0.48450811808101762 0.79262961494969508 0.40475112250378154 1.0511285888904991 0.97606584738031732 0.59096092516688681 0.14720656640308591 -0.82466997417417665 1.2504561701622927 -0.35395767568139913 2.2946169330335886 1.7604748146386184 -2.0634915595612568 1.4750501096973878 -0.43008440773889445])"
      ]
     },
     "execution_count": 15,
     "metadata": {},
     "output_type": "execute_result"
    }
   ],
   "source": [
    "akA['float64']"
   ]
  },
  {
   "cell_type": "code",
   "execution_count": 13,
   "id": "d5c7dd04-5f32-4f31-b869-a4192d4513a0",
   "metadata": {},
   "outputs": [
    {
     "data": {
      "text/plain": [
       "array([False False False False True False True True True False True True True True True False False False False False False True True True False False False False True False True True False False False True False True False True True False False True True True False True True False False True False True False True False False True True False False True True False False True False False False False False False True False False True False True False True True True True True True False False True False False False True True False True False False True False])"
      ]
     },
     "execution_count": 13,
     "metadata": {},
     "output_type": "execute_result"
    }
   ],
   "source": [
    "akB['bool']"
   ]
  },
  {
   "cell_type": "code",
   "execution_count": null,
   "id": "e42f4963-da9c-48bd-b381-2caeac2ff4e6",
   "metadata": {},
   "outputs": [],
   "source": []
  }
 ],
 "metadata": {
  "kernelspec": {
   "display_name": "Python 3 (ipykernel)",
   "language": "python",
   "name": "python3"
  },
  "language_info": {
   "codemirror_mode": {
    "name": "ipython",
    "version": 3
   },
   "file_extension": ".py",
   "mimetype": "text/x-python",
   "name": "python",
   "nbconvert_exporter": "python",
   "pygments_lexer": "ipython3",
   "version": "3.12.3"
  }
 },
 "nbformat": 4,
 "nbformat_minor": 5
}
