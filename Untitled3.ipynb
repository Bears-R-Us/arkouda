{
 "cells": [
  {
   "cell_type": "code",
   "execution_count": 1,
   "id": "a4a1abae-f594-4216-ad1b-a584f131c969",
   "metadata": {},
   "outputs": [
    {
     "name": "stdout",
     "output_type": "stream",
     "text": [
      "    _         _                   _       \n",
      "   / \\   _ __| | _____  _   _  __| | __ _ \n",
      "  / _ \\ | '__| |/ / _ \\| | | |/ _` |/ _` |\n",
      " / ___ \\| |  |   < (_) | |_| | (_| | (_| |\n",
      "/_/   \\_\\_|  |_|\\_\\___/ \\__,_|\\__,_|\\__,_|\n",
      "                                          \n",
      "\n",
      "Client Version: v2024.10.02+42.g38d439b86.dirty\n"
     ]
    },
    {
     "name": "stderr",
     "output_type": "stream",
     "text": [
      "/home/drandy/projects/arkouda/arkouda/client.py:735: RuntimeWarning: Version mismatch between client (v2024.10.02+42.g38d439b86.dirty) and server (v2024.10.02+41.g29f70ea79.dirty); this may cause some commands to fail or behave incorrectly! Updating arkouda is strongly recommended.\n",
      "  warnings.warn(\n",
      "connected to arkouda server tcp://*:5555\n"
     ]
    }
   ],
   "source": [
    "import numpy as np ; import arkouda as ak ; ak.connect()"
   ]
  },
  {
   "cell_type": "code",
   "execution_count": 2,
   "id": "0c2f7216-3791-4078-8234-2e37215b5857",
   "metadata": {},
   "outputs": [],
   "source": [
    "a = np.array([0,1,2,3,4,5]) ; b = np.array([1,2,3,4,5,6])"
   ]
  },
  {
   "cell_type": "code",
   "execution_count": 3,
   "id": "59741a59-706a-43cd-a008-3a1dea42462a",
   "metadata": {},
   "outputs": [],
   "source": [
    "y = ak.array(a) ; z = ak.array(b)"
   ]
  },
  {
   "cell_type": "code",
   "execution_count": 4,
   "id": "46cfa24e-eab0-45cb-8040-c6027a358218",
   "metadata": {},
   "outputs": [],
   "source": [
    "tn = ak.array([False,True,False,True,False,True]) ; tk = ak.array(tn)"
   ]
  },
  {
   "cell_type": "code",
   "execution_count": 5,
   "id": "bde39d97-e7ef-4805-8806-fdf05e0ed4ed",
   "metadata": {},
   "outputs": [
    {
     "data": {
      "text/plain": [
       "array([0.00000000000000000 0.46364760900080609 0.5880026035475675 0.64350110879328437 0.67474094222355263 0.69473827619670314])"
      ]
     },
     "execution_count": 5,
     "metadata": {},
     "output_type": "execute_result"
    }
   ],
   "source": [
    "ak.arctan2(y,z)"
   ]
  },
  {
   "cell_type": "code",
   "execution_count": 6,
   "id": "f6befb98-52ec-428e-bf29-e3bc7f119994",
   "metadata": {},
   "outputs": [
    {
     "data": {
      "text/plain": [
       "array([0.00000000000000000 0.46364760900080609 0.66666666666666663 0.64350110879328437 0.80000000000000004 0.69473827619670314])"
      ]
     },
     "execution_count": 6,
     "metadata": {},
     "output_type": "execute_result"
    }
   ],
   "source": [
    "ak.arctan2(y,z,where=tk)"
   ]
  },
  {
   "cell_type": "code",
   "execution_count": 7,
   "id": "b5b40127-fd75-4b6c-88dd-c1c30fa89fb3",
   "metadata": {},
   "outputs": [
    {
     "data": {
      "text/plain": [
       "array([0.00000000000000000 0.5 0.66666666666666663 0.75 0.80000000000000004 0.83333333333333337])"
      ]
     },
     "execution_count": 7,
     "metadata": {},
     "output_type": "execute_result"
    }
   ],
   "source": [
    "y/z"
   ]
  },
  {
   "cell_type": "code",
   "execution_count": 8,
   "id": "d2beff07-e807-47e0-bba9-255e67210c36",
   "metadata": {},
   "outputs": [],
   "source": [
    "ak.shutdown()"
   ]
  },
  {
   "cell_type": "code",
   "execution_count": null,
   "id": "75a0ec82-293b-48e1-81a0-e09c8e3d5eb7",
   "metadata": {},
   "outputs": [],
   "source": []
  }
 ],
 "metadata": {
  "kernelspec": {
   "display_name": "Python 3 (ipykernel)",
   "language": "python",
   "name": "python3"
  },
  "language_info": {
   "codemirror_mode": {
    "name": "ipython",
    "version": 3
   },
   "file_extension": ".py",
   "mimetype": "text/x-python",
   "name": "python",
   "nbconvert_exporter": "python",
   "pygments_lexer": "ipython3",
   "version": "3.12.3"
  }
 },
 "nbformat": 4,
 "nbformat_minor": 5
}
