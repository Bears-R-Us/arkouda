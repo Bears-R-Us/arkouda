{
 "cells": [
  {
   "cell_type": "code",
   "execution_count": 1,
   "id": "56e7eb40-35ba-469d-9a08-5f3108ed4577",
   "metadata": {},
   "outputs": [
    {
     "name": "stdout",
     "output_type": "stream",
     "text": [
      "    _         _                   _       \n",
      "   / \\   _ __| | _____  _   _  __| | __ _ \n",
      "  / _ \\ | '__| |/ / _ \\| | | |/ _` |/ _` |\n",
      " / ___ \\| |  |   < (_) | |_| | (_| | (_| |\n",
      "/_/   \\_\\_|  |_|\\_\\___/ \\__,_|\\__,_|\\__,_|\n",
      "                                          \n",
      "\n",
      "Client Version: v2024.10.02+43.g640d7a6cf.dirty\n"
     ]
    },
    {
     "name": "stderr",
     "output_type": "stream",
     "text": [
      "connected to arkouda server tcp://*:5555\n"
     ]
    }
   ],
   "source": [
    "import arkouda as ak ; import numpy as np ; ak.connect()"
   ]
  },
  {
   "cell_type": "code",
   "execution_count": 2,
   "id": "7c5fd770-81d3-4e7f-bed6-3b5e861a5600",
   "metadata": {},
   "outputs": [],
   "source": [
    "a = ak.array(np.random.randint(0,10,100)) ; b = ak.array(np.random.randint(0,10,100))"
   ]
  },
  {
   "cell_type": "code",
   "execution_count": 3,
   "id": "f0d40dd8-3579-4386-a9dd-6db102fd1dc4",
   "metadata": {},
   "outputs": [
    {
     "data": {
      "text/plain": [
       "array([6 3 8 3 2 9 4 2 0 2 4 4 4 2 0 7 1 3 0 9 9 8 3 6 6 4 8 7 6 2 4 1 8 0 4 1 8 4 2 6 5 5 6 1 5 4 6 0 9 2 3 3 7 5 7 8 5 9 3 1 6 6 9 7 9 5 9 3 2 4 9 6 8 3 0 7 4 9 4 0 0 6 6 4 4 5 2 2 1 9 1 9 6 6 6 0 9 1 7 9])"
      ]
     },
     "execution_count": 3,
     "metadata": {},
     "output_type": "execute_result"
    }
   ],
   "source": [
    "a"
   ]
  },
  {
   "cell_type": "code",
   "execution_count": 4,
   "id": "2f9f1fcd-f401-418c-8e6e-2c99cda2ea49",
   "metadata": {},
   "outputs": [
    {
     "data": {
      "text/plain": [
       "array([6 0 2 0 0 9 2 2 6 9 7 4 8 4 7 5 1 5 5 8 3 8 4 6 3 1 2 7 4 3 9 6 1 1 3 6 5 6 9 7 5 6 5 3 9 8 6 0 1 1 7 0 1 6 3 6 5 3 2 3 2 3 3 2 6 8 1 4 6 9 9 3 1 0 8 4 8 3 9 7 7 9 5 7 0 3 5 2 7 1 3 7 8 2 8 6 1 6 8 4])"
      ]
     },
     "execution_count": 4,
     "metadata": {},
     "output_type": "execute_result"
    }
   ],
   "source": [
    "b"
   ]
  },
  {
   "cell_type": "code",
   "execution_count": 5,
   "id": "7d95a0dd-07e4-4ed0-94b8-1743d44f66ea",
   "metadata": {},
   "outputs": [],
   "source": [
    "c = ak.array(np.random.randint(0,2,100,dtype='bool'))"
   ]
  },
  {
   "cell_type": "code",
   "execution_count": 6,
   "id": "2a2323f9-3923-4672-87c0-7cfcdd81aac4",
   "metadata": {},
   "outputs": [
    {
     "data": {
      "text/plain": [
       "array([True True False True True True True True False False False True False True True True False True False False False False True False True False False True True False True True True False True True False True False True False False True True True False True False False True False True True False True False False True False False False False False True True False True False False False True False True False False False True True False False True True False True False True False True False True False False True True True False False False False False])"
      ]
     },
     "execution_count": 6,
     "metadata": {},
     "output_type": "execute_result"
    }
   ],
   "source": [
    "c"
   ]
  },
  {
   "cell_type": "code",
   "execution_count": 7,
   "id": "8d3da67e-cd4e-4df7-9db3-fe21e621a902",
   "metadata": {},
   "outputs": [
    {
     "data": {
      "text/plain": [
       "dtype('bool')"
      ]
     },
     "execution_count": 7,
     "metadata": {},
     "output_type": "execute_result"
    }
   ],
   "source": [
    "c.dtype"
   ]
  },
  {
   "cell_type": "code",
   "execution_count": 8,
   "id": "269ed164-4038-4274-9eaf-5204fae0d217",
   "metadata": {},
   "outputs": [
    {
     "data": {
      "text/plain": [
       "array([6 3 2 3 2 9 4 2 6 9 7 4 8 2 0 7 1 3 5 8 3 8 3 6 6 1 2 7 6 3 4 1 8 1 4 1 5 4 9 6 5 6 6 1 5 8 6 0 1 2 7 3 7 6 7 6 5 9 2 3 2 3 3 7 9 8 9 4 6 9 9 3 8 0 8 4 4 9 9 7 0 6 5 4 0 5 5 2 7 9 3 7 6 6 6 6 1 6 8 4])"
      ]
     },
     "execution_count": 8,
     "metadata": {},
     "output_type": "execute_result"
    }
   ],
   "source": [
    "ak.where(c,a,b)"
   ]
  },
  {
   "cell_type": "code",
   "execution_count": 9,
   "id": "2899a1c5-b474-45e8-a62e-8270647e5137",
   "metadata": {},
   "outputs": [],
   "source": [
    "aa = a.to_ndarray() ; bb = b.to_ndarray() ; cc = c.to_ndarray()"
   ]
  },
  {
   "cell_type": "code",
   "execution_count": 10,
   "id": "bbbbe94b-7c21-4fa8-96ad-dfab334d1603",
   "metadata": {},
   "outputs": [
    {
     "data": {
      "text/plain": [
       "array([6, 3, 2, 3, 2, 9, 4, 2, 6, 9, 7, 4, 8, 2, 0, 7, 1, 3, 5, 8, 3, 8,\n",
       "       3, 6, 6, 1, 2, 7, 6, 3, 4, 1, 8, 1, 4, 1, 5, 4, 9, 6, 5, 6, 6, 1,\n",
       "       5, 8, 6, 0, 1, 2, 7, 3, 7, 6, 7, 6, 5, 9, 2, 3, 2, 3, 3, 7, 9, 8,\n",
       "       9, 4, 6, 9, 9, 3, 8, 0, 8, 4, 4, 9, 9, 7, 0, 6, 5, 4, 0, 5, 5, 2,\n",
       "       7, 9, 3, 7, 6, 6, 6, 6, 1, 6, 8, 4])"
      ]
     },
     "execution_count": 10,
     "metadata": {},
     "output_type": "execute_result"
    }
   ],
   "source": [
    "np.where(cc,aa,bb)"
   ]
  },
  {
   "cell_type": "code",
   "execution_count": 11,
   "id": "f10b3b3d-bb51-4a96-b8ab-a1266d815a71",
   "metadata": {},
   "outputs": [],
   "source": [
    "ak.shutdown()"
   ]
  },
  {
   "cell_type": "code",
   "execution_count": null,
   "id": "86ef720d-98c9-4f95-8ee1-063a82a9ee64",
   "metadata": {},
   "outputs": [],
   "source": []
  }
 ],
 "metadata": {
  "kernelspec": {
   "display_name": "Python 3 (ipykernel)",
   "language": "python",
   "name": "python3"
  },
  "language_info": {
   "codemirror_mode": {
    "name": "ipython",
    "version": 3
   },
   "file_extension": ".py",
   "mimetype": "text/x-python",
   "name": "python",
   "nbconvert_exporter": "python",
   "pygments_lexer": "ipython3",
   "version": "3.12.3"
  }
 },
 "nbformat": 4,
 "nbformat_minor": 5
}
