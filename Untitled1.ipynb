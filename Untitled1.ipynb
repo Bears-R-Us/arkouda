{
 "cells": [
  {
   "cell_type": "code",
   "execution_count": 1,
   "id": "b3120525-02ba-4124-bb13-095c71a67809",
   "metadata": {},
   "outputs": [
    {
     "name": "stdout",
     "output_type": "stream",
     "text": [
      "    _         _                   _       \n",
      "   / \\   _ __| | _____  _   _  __| | __ _ \n",
      "  / _ \\ | '__| |/ / _ \\| | | |/ _` |/ _` |\n",
      " / ___ \\| |  |   < (_) | |_| | (_| | (_| |\n",
      "/_/   \\_\\_|  |_|\\_\\___/ \\__,_|\\__,_|\\__,_|\n",
      "                                          \n",
      "\n",
      "Client Version: v2024.10.02+42.g38d439b86.dirty\n"
     ]
    },
    {
     "name": "stderr",
     "output_type": "stream",
     "text": [
      "/home/drandy/projects/arkouda/arkouda/client.py:735: RuntimeWarning: Version mismatch between client (v2024.10.02+42.g38d439b86.dirty) and server (v2024.10.02+41.g29f70ea79.dirty); this may cause some commands to fail or behave incorrectly! Updating arkouda is strongly recommended.\n",
      "  warnings.warn(\n",
      "connected to arkouda server tcp://*:5555\n"
     ]
    }
   ],
   "source": [
    "import numpy as np ; import arkouda as ak ; ak.connect()"
   ]
  },
  {
   "cell_type": "code",
   "execution_count": 2,
   "id": "6b7baf6d-2edf-4048-ba89-5da161d693f9",
   "metadata": {},
   "outputs": [],
   "source": [
    "num = np.array([0,1,2,3,4,5])"
   ]
  },
  {
   "cell_type": "code",
   "execution_count": 3,
   "id": "8323d1ba-2ed4-4537-a449-8073aecc79f8",
   "metadata": {},
   "outputs": [],
   "source": [
    "denom = np.array([1,2,3,4,5,6])"
   ]
  },
  {
   "cell_type": "code",
   "execution_count": 4,
   "id": "2cd1b650-603b-4e43-b4bb-aa295c673084",
   "metadata": {},
   "outputs": [],
   "source": [
    "aknum = ak.array(num) ; akdenom = ak.array(denom)"
   ]
  },
  {
   "cell_type": "code",
   "execution_count": 5,
   "id": "923853eb-32f9-47b5-8928-18ecf6bb9ccd",
   "metadata": {},
   "outputs": [],
   "source": [
    "truthnp = ([False,True,False,True,False,True])"
   ]
  },
  {
   "cell_type": "code",
   "execution_count": 6,
   "id": "a4f1a70d-20e6-45db-9d79-1499297a1f54",
   "metadata": {},
   "outputs": [],
   "source": [
    "truthak = ak.array(truthnp)"
   ]
  },
  {
   "cell_type": "code",
   "execution_count": 7,
   "id": "c970f392-a4df-4e3a-905d-708d0a518bd0",
   "metadata": {},
   "outputs": [
    {
     "data": {
      "text/plain": [
       "array([0.        , 0.46364761, 0.5880026 , 0.64350111, 0.67474094,\n",
       "       0.69473828])"
      ]
     },
     "execution_count": 7,
     "metadata": {},
     "output_type": "execute_result"
    }
   ],
   "source": [
    "np.arctan2(num,denom)"
   ]
  },
  {
   "cell_type": "code",
   "execution_count": 10,
   "id": "e9ba200c-91bb-41e7-8262-60ecaebe8898",
   "metadata": {},
   "outputs": [
    {
     "ename": "TypeError",
     "evalue": "Unhandled key type: True (<class 'bool'>)",
     "output_type": "error",
     "traceback": [
      "\u001b[0;31m---------------------------------------------------------------------------\u001b[0m",
      "\u001b[0;31mTypeError\u001b[0m                                 Traceback (most recent call last)",
      "Cell \u001b[0;32mIn[10], line 1\u001b[0m\n\u001b[0;32m----> 1\u001b[0m \u001b[43mak\u001b[49m\u001b[38;5;241;43m.\u001b[39;49m\u001b[43marctan2\u001b[49m\u001b[43m(\u001b[49m\u001b[43maknum\u001b[49m\u001b[43m,\u001b[49m\u001b[43makdenom\u001b[49m\u001b[43m)\u001b[49m\n",
      "File \u001b[0;32m~/miniconda3/envs/arkouda-dev/lib/python3.12/site-packages/typeguard/__init__.py:891\u001b[0m, in \u001b[0;36mtypechecked.<locals>.wrapper\u001b[0;34m(*args, **kwargs)\u001b[0m\n\u001b[1;32m    889\u001b[0m memo \u001b[38;5;241m=\u001b[39m _CallMemo(python_func, _localns, args\u001b[38;5;241m=\u001b[39margs, kwargs\u001b[38;5;241m=\u001b[39mkwargs)\n\u001b[1;32m    890\u001b[0m check_argument_types(memo)\n\u001b[0;32m--> 891\u001b[0m retval \u001b[38;5;241m=\u001b[39m \u001b[43mfunc\u001b[49m\u001b[43m(\u001b[49m\u001b[38;5;241;43m*\u001b[39;49m\u001b[43margs\u001b[49m\u001b[43m,\u001b[49m\u001b[43m \u001b[49m\u001b[38;5;241;43m*\u001b[39;49m\u001b[38;5;241;43m*\u001b[39;49m\u001b[43mkwargs\u001b[49m\u001b[43m)\u001b[49m\n\u001b[1;32m    892\u001b[0m check_return_type(retval, memo)\n\u001b[1;32m    894\u001b[0m \u001b[38;5;66;03m# If a generator is returned, wrap it if its yield/send/return types can be checked\u001b[39;00m\n",
      "File \u001b[0;32m~/projects/arkouda/arkouda/numpy/_numeric.py:1113\u001b[0m, in \u001b[0;36marctan2\u001b[0;34m(num, denom, where)\u001b[0m\n\u001b[1;32m   1111\u001b[0m     new_pda \u001b[38;5;241m=\u001b[39m num \u001b[38;5;241m/\u001b[39m denom \u001b[38;5;66;03m# type : ignore\u001b[39;00m\n\u001b[1;32m   1112\u001b[0m     ret \u001b[38;5;241m=\u001b[39m create_pdarray(repMsg)\n\u001b[0;32m-> 1113\u001b[0m     \u001b[38;5;28;01mreturn\u001b[39;00m \u001b[43m_merge_where\u001b[49m\u001b[43m(\u001b[49m\u001b[43mret\u001b[49m\u001b[43m[\u001b[49m\u001b[43m:\u001b[49m\u001b[43m]\u001b[49m\u001b[43m,\u001b[49m\u001b[43m \u001b[49m\u001b[43mwhere\u001b[49m\u001b[43m,\u001b[49m\u001b[43m \u001b[49m\u001b[43mnew_pda\u001b[49m\u001b[43m)\u001b[49m\n\u001b[1;32m   1115\u001b[0m \u001b[38;5;28;01melse\u001b[39;00m:\n\u001b[1;32m   1116\u001b[0m     \u001b[38;5;28;01mreturn\u001b[39;00m scalar_array(arctan2(num, denom) \u001b[38;5;28;01mif\u001b[39;00m where \u001b[38;5;28;01melse\u001b[39;00m num \u001b[38;5;241m/\u001b[39m denom)\n",
      "File \u001b[0;32m~/projects/arkouda/arkouda/numpy/_numeric.py:113\u001b[0m, in \u001b[0;36m_merge_where\u001b[0;34m(new_pda, where, ret)\u001b[0m\n\u001b[1;32m    111\u001b[0m \u001b[38;5;28;01mdef\u001b[39;00m \u001b[38;5;21m_merge_where\u001b[39m(new_pda, where, ret):\n\u001b[1;32m    112\u001b[0m     new_pda \u001b[38;5;241m=\u001b[39m cast(new_pda, ret\u001b[38;5;241m.\u001b[39mdtype)\n\u001b[0;32m--> 113\u001b[0m     \u001b[43mnew_pda\u001b[49m\u001b[43m[\u001b[49m\u001b[43mwhere\u001b[49m\u001b[43m]\u001b[49m \u001b[38;5;241m=\u001b[39m ret\n\u001b[1;32m    114\u001b[0m     \u001b[38;5;28;01mreturn\u001b[39;00m new_pda\n",
      "File \u001b[0;32m~/projects/arkouda/arkouda/pdarrayclass.py:1067\u001b[0m, in \u001b[0;36mpdarray.__setitem__\u001b[0;34m(self, key, value)\u001b[0m\n\u001b[1;32m   1055\u001b[0m             generic_msg(\n\u001b[1;32m   1056\u001b[0m                 cmd\u001b[38;5;241m=\u001b[39m\u001b[38;5;124mf\u001b[39m\u001b[38;5;124m\"\u001b[39m\u001b[38;5;124m[slice]=val<\u001b[39m\u001b[38;5;132;01m{\u001b[39;00m\u001b[38;5;28mself\u001b[39m\u001b[38;5;241m.\u001b[39mdtype\u001b[38;5;132;01m}\u001b[39;00m\u001b[38;5;124m,1>\u001b[39m\u001b[38;5;124m\"\u001b[39m,\n\u001b[1;32m   1057\u001b[0m                 args\u001b[38;5;241m=\u001b[39m{\n\u001b[0;32m   (...)\u001b[0m\n\u001b[1;32m   1064\u001b[0m                 },\n\u001b[1;32m   1065\u001b[0m             )\n\u001b[1;32m   1066\u001b[0m     \u001b[38;5;28;01melse\u001b[39;00m:\n\u001b[0;32m-> 1067\u001b[0m         \u001b[38;5;28;01mraise\u001b[39;00m \u001b[38;5;167;01mTypeError\u001b[39;00m(\u001b[38;5;124mf\u001b[39m\u001b[38;5;124m\"\u001b[39m\u001b[38;5;124mUnhandled key type: \u001b[39m\u001b[38;5;132;01m{\u001b[39;00mkey\u001b[38;5;132;01m}\u001b[39;00m\u001b[38;5;124m (\u001b[39m\u001b[38;5;132;01m{\u001b[39;00m\u001b[38;5;28mtype\u001b[39m(key)\u001b[38;5;132;01m}\u001b[39;00m\u001b[38;5;124m)\u001b[39m\u001b[38;5;124m\"\u001b[39m)\n\u001b[1;32m   1068\u001b[0m \u001b[38;5;28;01melse\u001b[39;00m:\n\u001b[1;32m   1069\u001b[0m     \u001b[38;5;28;01mif\u001b[39;00m \u001b[38;5;28misinstance\u001b[39m(key, \u001b[38;5;28mtuple\u001b[39m):\n\u001b[1;32m   1070\u001b[0m         \u001b[38;5;66;03m# TODO: add support for an Ellipsis in the key tuple\u001b[39;00m\n\u001b[1;32m   1071\u001b[0m         \u001b[38;5;66;03m# (inserts ':' for any unspecified dimensions)\u001b[39;00m\n",
      "\u001b[0;31mTypeError\u001b[0m: Unhandled key type: True (<class 'bool'>)"
     ]
    }
   ],
   "source": [
    "ak.arctan2(aknum,akdenom)"
   ]
  },
  {
   "cell_type": "code",
   "execution_count": 11,
   "id": "97e930ac-d92d-4ae4-8b94-12dbef5979fc",
   "metadata": {},
   "outputs": [
    {
     "data": {
      "text/plain": [
       "array([0 1 2 3 4 5])"
      ]
     },
     "execution_count": 11,
     "metadata": {},
     "output_type": "execute_result"
    }
   ],
   "source": [
    "aknum"
   ]
  },
  {
   "cell_type": "code",
   "execution_count": 12,
   "id": "b1b3db23-eea9-47d9-a10f-444044720757",
   "metadata": {},
   "outputs": [
    {
     "data": {
      "text/plain": [
       "array([1 2 3 4 5 6])"
      ]
     },
     "execution_count": 12,
     "metadata": {},
     "output_type": "execute_result"
    }
   ],
   "source": [
    "akdenom"
   ]
  },
  {
   "cell_type": "code",
   "execution_count": null,
   "id": "06b4881a-9b7b-4cef-9c95-ad3a61536e74",
   "metadata": {},
   "outputs": [],
   "source": []
  }
 ],
 "metadata": {
  "kernelspec": {
   "display_name": "Python 3 (ipykernel)",
   "language": "python",
   "name": "python3"
  },
  "language_info": {
   "codemirror_mode": {
    "name": "ipython",
    "version": 3
   },
   "file_extension": ".py",
   "mimetype": "text/x-python",
   "name": "python",
   "nbconvert_exporter": "python",
   "pygments_lexer": "ipython3",
   "version": "3.12.3"
  }
 },
 "nbformat": 4,
 "nbformat_minor": 5
}
